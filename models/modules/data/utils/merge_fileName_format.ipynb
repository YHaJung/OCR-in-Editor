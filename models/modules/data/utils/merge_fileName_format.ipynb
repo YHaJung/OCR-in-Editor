{
 "cells": [
  {
   "cell_type": "code",
   "execution_count": 1,
   "id": "7cc6129a-7a3e-44d6-b143-dc1e8e59eaeb",
   "metadata": {},
   "outputs": [],
   "source": [
    "# !pwd"
   ]
  },
  {
   "cell_type": "code",
   "execution_count": 2,
   "id": "ff07d5b1-4158-4e20-9afe-c5990bc9044c",
   "metadata": {},
   "outputs": [],
   "source": [
    "# idcar2017 datasets을 icdar2015와 통합\n",
    "# 파일 명 변경(index + 1000)\n",
    "import os\n",
    "import shutil"
   ]
  },
  {
   "cell_type": "code",
   "execution_count": 3,
   "id": "a4b7b89a-4b9b-4357-a63c-1b1abbefebf0",
   "metadata": {},
   "outputs": [],
   "source": [
    "datasets_path = '/opt/ml/project/models/datasets'"
   ]
  },
  {
   "cell_type": "code",
   "execution_count": 4,
   "id": "8ba0a6df-bfc0-4e3b-805f-9003ad4816d1",
   "metadata": {},
   "outputs": [
    {
     "data": {
      "text/plain": [
       "'/opt/ml/project/models/datasets/train_images'"
      ]
     },
     "execution_count": 4,
     "metadata": {},
     "output_type": "execute_result"
    }
   ],
   "source": [
    "# icdar 2017 복사\n",
    "shutil.copytree(datasets_path + '/train_gts_icdar17_alphabet', datasets_path + '/train_gts')\n",
    "shutil.copytree(datasets_path + '/train_images_icdar17_alphabet', datasets_path + '/train_images')"
   ]
  },
  {
   "cell_type": "code",
   "execution_count": 5,
   "id": "643f4b4a-1c9d-4dca-b8e4-0f71cbd8f3bd",
   "metadata": {},
   "outputs": [
    {
     "name": "stdout",
     "output_type": "stream",
     "text": [
      ".ipynb_checkpoints\n"
     ]
    }
   ],
   "source": [
    "# ground truth(gt)\n",
    "old_file_path = datasets_path + '/train_gts_icdar15'\n",
    "old_file_names = os.listdir(old_file_path)\n",
    "new_file_path = datasets_path + '/train_gts'\n",
    "\n",
    "if not os.path.isdir(new_file_path):\n",
    "    os.makedirs(new_file_path)\n",
    "\n",
    "for old_name in old_file_names:\n",
    "    try:\n",
    "        new_idx = int(old_name.split('_')[-1].split('.')[0]) + 10000\n",
    "    except:\n",
    "        print(old_name)\n",
    "        continue\n",
    "    new_name = 'gt_img_'+str(new_idx)+'.txt'\n",
    "    old_src = os.path.join(old_file_path, old_name)\n",
    "    new_src = os.path.join(new_file_path, new_name)\n",
    "    shutil.copyfile(old_src, new_src)\n",
    "    # print(old_src, new_src)"
   ]
  },
  {
   "cell_type": "code",
   "execution_count": 6,
   "id": "e63d0343-bc98-48d4-b95b-6b7e8a9a1c21",
   "metadata": {},
   "outputs": [
    {
     "name": "stdout",
     "output_type": "stream",
     "text": [
      ".ipynb_checkpoints\n"
     ]
    }
   ],
   "source": [
    "# image names\n",
    "old_file_path = datasets_path + '/train_images_icdar15'\n",
    "old_file_names = os.listdir(old_file_path)\n",
    "new_file_path = datasets_path + '/train_images'\n",
    "\n",
    "if not os.path.isdir(new_file_path):\n",
    "    os.makedirs(new_file_path)\n",
    "\n",
    "for old_name in old_file_names:\n",
    "    try:\n",
    "        new_idx = int(old_name.split('_')[-1].split('.')[0]) + 10000\n",
    "        new_name = 'img_'+str(new_idx)+'.jpg'\n",
    "        old_src = os.path.join(old_file_path, old_name)\n",
    "        new_src = os.path.join(new_file_path, new_name)\n",
    "        shutil.copyfile(old_src, new_src)\n",
    "    except:\n",
    "        print(old_name)\n",
    "        continue\n",
    "    # print(old_src, new_src)"
   ]
  }
 ],
 "metadata": {
  "kernelspec": {
   "display_name": "lightweight",
   "language": "python",
   "name": "lightweight"
  },
  "language_info": {
   "codemirror_mode": {
    "name": "ipython",
    "version": 3
   },
   "file_extension": ".py",
   "mimetype": "text/x-python",
   "name": "python",
   "nbconvert_exporter": "python",
   "pygments_lexer": "ipython3",
   "version": "3.7.11"
  }
 },
 "nbformat": 4,
 "nbformat_minor": 5
}
