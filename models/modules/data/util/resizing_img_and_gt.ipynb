{
 "cells": [
  {
   "cell_type": "code",
   "execution_count": null,
   "id": "4aeabc3e-4115-4d4b-96e4-9c3e079f5d9b",
   "metadata": {},
   "outputs": [],
   "source": [
    "import os\n",
    "import glob\n",
    "\n",
    "import cv2\n",
    "import pathlib\n",
    "import traceback\n",
    "\n",
    "from tqdm import tqdm"
   ]
  },
  {
   "cell_type": "code",
   "execution_count": null,
   "id": "9c6666e4-b03f-445e-9fff-a0f618f7d7bd",
   "metadata": {},
   "outputs": [],
   "source": [
    "def resize_image(im, max_side_len=1200):\n",
    "    \"\"\"\n",
    "    resize image to a size multiple of 32 which is required by the network\n",
    "    :param im: the resized image\n",
    "    :param max_side_len: limit of max image size to avoid out of memory in gpu\n",
    "    :return: the resized image and the resize ratio\n",
    "    \"\"\"\n",
    "    h, w, _ = im.shape\n",
    "\n",
    "    resize_w = w\n",
    "    resize_h = h\n",
    "\n",
    "    # limit the max side\n",
    "    if max(resize_h, resize_w) > max_side_len:\n",
    "        ratio = float(max_side_len) / resize_h if resize_h > resize_w else float(max_side_len) / resize_w\n",
    "    else:\n",
    "        ratio = 1.\n",
    "    resize_h = int(resize_h * ratio)\n",
    "    resize_w = int(resize_w * ratio)\n",
    "\n",
    "    resize_h = resize_h if resize_h % 32 == 0 else (resize_h // 32 - 1) * 32\n",
    "    resize_w = resize_w if resize_w % 32 == 0 else (resize_w // 32 - 1) * 32\n",
    "    im = cv2.resize(im, (int(resize_w), int(resize_h)))\n",
    "\n",
    "    ratio_h = resize_h / float(h)\n",
    "    ratio_w = resize_w / float(w)\n",
    "\n",
    "    return im, (ratio_h, ratio_w)"
   ]
  },
  {
   "cell_type": "code",
   "execution_count": null,
   "id": "afff9878-07b7-492a-8a36-596af98702da",
   "metadata": {},
   "outputs": [],
   "source": [
    "def process_txt(file_names, gt_path, new_gt_path, ratio_dict):\n",
    "    for file_name in file_names[1:]:\n",
    "        src = os.path.join(gt_path, file_name)\n",
    "        with open(src, 'r', encoding='utf-8') as f:\n",
    "            new_texts = ''\n",
    "            lines = f.readlines()\n",
    "            for line in lines:\n",
    "                texts = line[:-1].split(',')\n",
    "                h = ratio_dict[file_name[7:-4]][0]\n",
    "                w = ratio_dict[file_name[7:-4]][1]\n",
    "                bbox = (f'{int(int(texts[0])*w)}, {int(int(texts[1])*h)}, {int(int(texts[2])*w)}, {int(int(texts[3])*h)}, {int(int(texts[4])*w)}, {int(int(texts[5])*h)}, {int(int(texts[6])*w)}, {int(int(texts[7])*h)}')\n",
    "                \n",
    "                script = texts[8]\n",
    "                word = texts[9]\n",
    "                \n",
    "                new_texts += bbox+','+script+','+word+'\\n'\n",
    "\n",
    "        new_src = os.path.join(new_gt_path, file_name)\n",
    "        with open(new_src,'w') as f:\n",
    "            f.write(new_texts)\n",
    "            \n",
    "    print('success_make_resized_gts')"
   ]
  },
  {
   "cell_type": "code",
   "execution_count": null,
   "id": "0222628b-0e3d-46b0-be75-f6aab40e3b1e",
   "metadata": {},
   "outputs": [],
   "source": [
    "def process_image(image_path, new_image_path, max_side_size):\n",
    "    types = ('*.jpg', '*.png', '*.JPG', '*.PNG')  # the tuple of file types\n",
    "    files_grabbed = []\n",
    "    ratio_dict = {}\n",
    "    for files in types:\n",
    "        files_grabbed.extend(image_path.glob(files))\n",
    "    for image_fn in tqdm(files_grabbed):\n",
    "        try:\n",
    "            im = cv2.imread(image_fn.as_posix())[:, :, ::-1]\n",
    "            im = cv2.cvtColor(im, cv2.COLOR_BGR2RGB)\n",
    "            im_resized, ratio_dict[image_fn.as_posix()[len(image_path.as_posix())-8:-4]] = resize_image(im, max_side_size)\n",
    "            cv2.imwrite(new_image_path+'/'+image_fn.name, im_resized)\n",
    "        except Exception as e:\n",
    "            print('excepted')\n",
    "            traceback.print_exc()\n",
    "            print(image_fn)\n",
    "    print('success_saving_resized_images')\n",
    "            \n",
    "    return ratio_dict"
   ]
  },
  {
   "cell_type": "code",
   "execution_count": null,
   "id": "9d313e96-d77a-4d46-8b63-806db901d946",
   "metadata": {},
   "outputs": [],
   "source": [
    "# 이미지와 gt의 위치\n",
    "datasets_path = '/opt/ml/final_project/final-project-level3-cv-07/models/datasets'\n",
    "image_path = datasets_path + '/' + 'test_images'\n",
    "gt_path = datasets_path + '/' + 'test_gts'\n",
    "\n",
    "# 파일 이름 추출\n",
    "file_names = sorted(os.listdir(gt_path))\n",
    "\n",
    "# 저장할 폴더 이름\n",
    "new_gt_path = gt_path + '_resized'\n",
    "new_image_path = image_path + '_resized'\n",
    "\n",
    "# 리사이징할 크기\n",
    "max_side_size=1200\n",
    "\n",
    "if not os.path.isdir(new_gt_path):\n",
    "    os.makedirs(new_gt_path)\n",
    "if not os.path.isdir(new_image_path):\n",
    "    os.makedirs(new_image_path)\n",
    "\n",
    "ratio_dict = process_image(pathlib.Path(image_path), new_image_path, max_side_size)\n",
    "process_txt(file_names, gt_path, new_gt_path, ratio_dict)"
   ]
  }
 ],
 "metadata": {
  "kernelspec": {
   "display_name": "Python 3 (ipykernel)",
   "language": "python",
   "name": "python3"
  },
  "language_info": {
   "codemirror_mode": {
    "name": "ipython",
    "version": 3
   },
   "file_extension": ".py",
   "mimetype": "text/x-python",
   "name": "python",
   "nbconvert_exporter": "python",
   "pygments_lexer": "ipython3",
   "version": "3.7.11"
  }
 },
 "nbformat": 4,
 "nbformat_minor": 5
}
